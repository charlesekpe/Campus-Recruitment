{
  "nbformat": 4,
  "nbformat_minor": 0,
  "metadata": {
    "colab": {
      "name": "Placement Prediction.ipynb",
      "provenance": [],
      "collapsed_sections": [],
      "authorship_tag": "ABX9TyPS+nDQqwwTho2Ro3d6L3vv"
    },
    "kernelspec": {
      "name": "python3",
      "display_name": "Python 3"
    },
    "language_info": {
      "name": "python"
    }
  },
  "cells": [
    {
      "cell_type": "code",
      "metadata": {
        "id": "ZPwKVji8B41s"
      },
      "source": [
        "import pandas as pd\n",
        "import numpy as np\n",
        "import seaborn as sns\n",
        "import matplotlib as plt\n",
        "from sklearn.impute import SimpleImputer\n",
        "from sklearn.pipeline import Pipeline\n",
        "from sklearn.ensemble import RandomForestClassifier\n",
        "from sklearn.model_selection import cross_val_score, train_test_split\n",
        "from sklearn.preprocessing import OneHotEncoder\n",
        "from sklearn.compose import ColumnTransformer\n",
        "from sklearn.metrics import accuracy_score\n",
        "\n",
        "%matplotlib inline"
      ],
      "execution_count": 37,
      "outputs": []
    },
    {
      "cell_type": "code",
      "metadata": {
        "id": "f8wlANsfCQv9"
      },
      "source": [
        "df = pd.read_csv(\"Placement_Data_Full_Class.csv\")"
      ],
      "execution_count": 26,
      "outputs": []
    },
    {
      "cell_type": "code",
      "metadata": {
        "id": "o-cdqxerCSJO"
      },
      "source": [
        "df.drop(['sl_no'], axis=1, inplace=True)"
      ],
      "execution_count": 27,
      "outputs": []
    },
    {
      "cell_type": "markdown",
      "metadata": {
        "id": "pNQ8htA22cGE"
      },
      "source": [
        "***EDA ON PLACEMENT DATA SET***\n"
      ]
    },
    {
      "cell_type": "code",
      "metadata": {
        "id": "stTu948z53lQ"
      },
      "source": [
        "#getting the number of rows and columns in the dataset\n",
        "df.shape"
      ],
      "execution_count": null,
      "outputs": []
    },
    {
      "cell_type": "code",
      "metadata": {
        "id": "Se5VVpjN56hR"
      },
      "source": [
        "df.info()#info about dataset"
      ],
      "execution_count": null,
      "outputs": []
    },
    {
      "cell_type": "code",
      "metadata": {
        "id": "n8bF7geK571d"
      },
      "source": [
        "df.isnull().sum() #check nulls"
      ],
      "execution_count": null,
      "outputs": []
    },
    {
      "cell_type": "code",
      "metadata": {
        "id": "GIKH34lgwySp"
      },
      "source": [
        "df.duplicated().sum() #check for there is duplicated values in the dataset"
      ],
      "execution_count": 29,
      "outputs": []
    },
    {
      "cell_type": "code",
      "metadata": {
        "id": "j_ZDqZAkILRm"
      },
      "source": [
        "#labelling the target column\n",
        "df['status'].values[df['status']=='Not Placed'] = 0 \n",
        "df['status'].values[df['status']=='Placed'] = 1\n",
        "df.status = df.status.astype('int')"
      ],
      "execution_count": 28,
      "outputs": []
    },
    {
      "cell_type": "code",
      "metadata": {
        "id": "37kLuIEmMS-p"
      },
      "source": [
        "X = df.drop(['status'], axis=1)\n",
        "Y = df.status"
      ],
      "execution_count": 30,
      "outputs": []
    },
    {
      "cell_type": "code",
      "metadata": {
        "id": "Z95gVDERJipL"
      },
      "source": [
        "def seperate_cols(X):\n",
        "  cc = [cname for cname in X.columns if X[cname].dtype == \"object\"]\n",
        "  nc = [cname for cname in X.columns if X[cname].dtype in ['int64', 'float64']]\n",
        "  return cc, nc\n",
        "#Preprocessing for numerical columns\n",
        "numerical_transformer = SimpleImputer(strategy='constant', fill_value=0)\n",
        "\n",
        "#Preprocessing pipeline for categorical columns\n",
        "categorical_transformer = Pipeline(steps=[\n",
        "    ('imputer', SimpleImputer(strategy='most_frequent')),\n",
        "    ('onehot', OneHotEncoder(handle_unknown='ignore'))\n",
        "])\n",
        "\n",
        "# Bundle preprocessing for numerical and categorical data\n",
        "categorical_cols, numerical_cols = seperate_cols(X)\n",
        "preprocessor = ColumnTransformer(\n",
        "    transformers=[\n",
        "        ('num', numerical_transformer, numerical_cols),\n",
        "        ('cat', categorical_transformer, categorical_cols)\n",
        "    ])"
      ],
      "execution_count": 31,
      "outputs": []
    },
    {
      "cell_type": "code",
      "metadata": {
        "id": "7Lkq0TJJF2a_"
      },
      "source": [
        "my_pip = Pipeline(steps=[\n",
        "                         ('preprocessor', preprocessor),\n",
        "                         ('model', RandomForestClassifier(n_estimators=50, criterion='entropy', random_state=0))\n",
        "])"
      ],
      "execution_count": 32,
      "outputs": []
    },
    {
      "cell_type": "code",
      "metadata": {
        "id": "YTO-zfoNMvMv"
      },
      "source": [
        "def train_model(X, Y):\n",
        "  X_train, X_valid, Y_train, Y_valid = train_test_split(X, Y, train_size=0.8, \n",
        "                                                                test_size=0.2, random_state=12)\n",
        "  my_pip.fit(X_train, Y_train)\n",
        "  preds = my_pip.predict(X_valid)\n",
        "  acc = accuracy_score(Y_valid, preds)\n",
        "  return acc\n",
        "\n",
        "def cross_val_test(X, y):\n",
        "  scores = cross_val_score(my_pip, X, Y, cv=5)\n",
        "  avg_score = sum(scores)/len(scores)\n",
        "  return avg_score"
      ],
      "execution_count": 23,
      "outputs": []
    },
    {
      "cell_type": "code",
      "metadata": {
        "colab": {
          "base_uri": "https://localhost:8080/"
        },
        "id": "yCVS57waO9LZ",
        "outputId": "8f93bfd1-135b-4dc8-d36e-18f06e564025"
      },
      "source": [
        "a1 = train_model(X, Y)\n",
        "a2 = cross_val_test(X, Y)\n",
        "print(a1, a2)"
      ],
      "execution_count": 24,
      "outputs": [
        {
          "output_type": "stream",
          "name": "stdout",
          "text": [
            "1.0 1.0\n"
          ]
        }
      ]
    }
  ]
}